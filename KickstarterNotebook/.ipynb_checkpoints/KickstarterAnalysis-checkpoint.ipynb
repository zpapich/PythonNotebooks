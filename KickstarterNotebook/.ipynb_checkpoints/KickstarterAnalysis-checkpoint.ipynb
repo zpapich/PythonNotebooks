{
 "cells": [
  {
   "cell_type": "code",
   "execution_count": 69,
   "metadata": {},
   "outputs": [],
   "source": [
    "import pandas as pd\n",
    "import numpy as np\n",
    "import matplotlib.pyplot as plt"
   ]
  },
  {
   "cell_type": "markdown",
   "metadata": {},
   "source": [
    "# Date Frame Creation\n",
    "We created two data frames. One of our full csv data and the other with just columns that we will use to view which categories have the greatest chances of success."
   ]
  },
  {
   "cell_type": "code",
   "execution_count": 87,
   "metadata": {},
   "outputs": [
    {
     "name": "stdout",
     "output_type": "stream",
     "text": [
      "       main_category     state\n",
      "0         Publishing    failed\n",
      "1       Film & Video    failed\n",
      "2       Film & Video    failed\n",
      "3              Music    failed\n",
      "4       Film & Video  canceled\n",
      "...              ...       ...\n",
      "378656  Film & Video  canceled\n",
      "378657  Film & Video    failed\n",
      "378658  Film & Video    failed\n",
      "378659    Technology    failed\n",
      "378660           Art    failed\n",
      "\n",
      "[378661 rows x 2 columns]\n"
     ]
    }
   ],
   "source": [
    "KickstarterDataset = pd.read_csv(\"./KSData/ks2018.csv\")\n",
    "kdf = pd.DataFrame(KickstarterDataset)\n",
    "StateByCatDF = kdf[['main_category', 'state']]"
   ]
  },
  {
   "cell_type": "markdown",
   "metadata": {},
   "source": [
    "I created two different ways to aggregate our data to make our conclusions. The simpler of the two is a pivot table."
   ]
  },
  {
   "cell_type": "code",
   "execution_count": 101,
   "metadata": {},
   "outputs": [
    {
     "name": "stdout",
     "output_type": "stream",
     "text": [
      "state          canceled    failed    live  successful  suspended  undefined  \\\n",
      "main_category                                                                 \n",
      "Art              2222.0   14131.0   194.0     11510.0       96.0        NaN   \n",
      "Comics            842.0    4036.0    76.0      5842.0       23.0        NaN   \n",
      "Crafts            843.0    5703.0    76.0      2115.0       72.0        NaN   \n",
      "Dance             163.0    1235.0    18.0      2338.0       13.0        1.0   \n",
      "Design           4152.0   14814.0   305.0     10550.0      247.0        2.0   \n",
      "Fashion          2650.0   14182.0   250.0      5593.0      138.0        3.0   \n",
      "Film & Video     5755.0   32904.0   332.0     23623.0      117.0      854.0   \n",
      "Food             2211.0   15969.0   184.0      6085.0      153.0        NaN   \n",
      "Games            6202.0   16003.0   287.0     12518.0      220.0        1.0   \n",
      "Journalism        523.0    3137.0    31.0      1012.0       52.0        NaN   \n",
      "Music            3305.0   21752.0   281.0     24197.0      149.0     2234.0   \n",
      "Photography       986.0    6384.0    48.0      3305.0       55.0        1.0   \n",
      "Publishing       3602.0   23145.0   299.0     12300.0       66.0      462.0   \n",
      "Technology       4715.0   20616.0   377.0      6434.0      424.0        3.0   \n",
      "Theater           608.0    3708.0    41.0      6534.0       21.0        1.0   \n",
      "All             38779.0  197719.0  2799.0    133956.0     1846.0     3562.0   \n",
      "\n",
      "state             All  \n",
      "main_category          \n",
      "Art             28153  \n",
      "Comics          10819  \n",
      "Crafts           8809  \n",
      "Dance            3768  \n",
      "Design          30070  \n",
      "Fashion         22816  \n",
      "Film & Video    63585  \n",
      "Food            24602  \n",
      "Games           35231  \n",
      "Journalism       4755  \n",
      "Music           51918  \n",
      "Photography     10779  \n",
      "Publishing      39874  \n",
      "Technology      32569  \n",
      "Theater         10913  \n",
      "All            378661  \n"
     ]
    }
   ],
   "source": [
    "#Create a pivot table with the categories as our rows, state as our columns, and then \n",
    "#we count how often each term occurs per category\n",
    "kpt = pd.pivot_table(StateByCatDF, index=[\"main_category\"], columns = ['state'], aggfunc=len)\n",
    "\n",
    "#This pivot table includes the totals for each category and state\n",
    "kptTotals = pd.pivot_table(StateByCatDF, index=[\"main_category\"], columns = ['state'], aggfunc=len, margins=True)\n",
    "print(kptTotals)"
   ]
  },
  {
   "cell_type": "code",
   "execution_count": 100,
   "metadata": {},
   "outputs": [
    {
     "data": {
      "text/plain": [
       "<AxesSubplot:xlabel='main_category'>"
      ]
     },
     "execution_count": 100,
     "metadata": {},
     "output_type": "execute_result"
    },
    {
     "data": {
      "image/png": "[encoded data removed]",
      "text/plain": [
       "<Figure size 432x288 with 1 Axes>"
      ]
     },
     "metadata": {
      "needs_background": "light"
     },
     "output_type": "display_data"
    }
   ],
   "source": [
    "#This bar plot needs to be cleaned up to make it more readable\n",
    "#Also want to get the percentages of each success per category to find which categories overall are most successful.\n",
    "kpt.plot(kind='bar')"
   ]
  },
  {
   "cell_type": "code",
   "execution_count": 49,
   "metadata": {},
   "outputs": [
    {
     "data": {
      "text/plain": [
       "['Art',\n",
       " 'Comics',\n",
       " 'Crafts',\n",
       " 'Dance',\n",
       " 'Design',\n",
       " 'Fashion',\n",
       " 'Film & Video',\n",
       " 'Food',\n",
       " 'Games',\n",
       " 'Journalism',\n",
       " 'Music',\n",
       " 'Photography',\n",
       " 'Publishing',\n",
       " 'Technology',\n",
       " 'Theater']"
      ]
     },
     "execution_count": 49,
     "metadata": {},
     "output_type": "execute_result"
    }
   ],
   "source": [
    "#Here we create new dataframes where we use the groupby function to aggregate our data instead of using a pivot table.\n",
    "ByMainCat = kdf.groupby([\"main_category\",\"state\"]).size()\n",
    "MainCatLabels = kdf[\"main_category\"].unique()\n",
    "#Here we set up the labels for when we want to plot the data.\n",
    "Labels = sorted(MainCatLabels) \n",
    "print(ByMainCat)"
   ]
  },
  {
   "cell_type": "code",
   "execution_count": null,
   "metadata": {},
   "outputs": [],
   "source": []
  }
 ],
 "metadata": {
  "kernelspec": {
   "display_name": "Python 3",
   "language": "python",
   "name": "python3"
  },
  "language_info": {
   "codemirror_mode": {
    "name": "ipython",
    "version": 3
   },
   "file_extension": ".py",
   "mimetype": "text/x-python",
   "name": "python",
   "nbconvert_exporter": "python",
   "pygments_lexer": "ipython3",
   "version": "3.7.6"
  }
 },
 "nbformat": 4,
 "nbformat_minor": 4
}
